{
 "cells": [
  {
   "cell_type": "markdown",
   "id": "a3cfdccf",
   "metadata": {},
   "source": [
    "# Peer Graded Final Assignment "
   ]
  },
  {
   "cell_type": "markdown",
   "id": "045f81a1",
   "metadata": {},
   "source": [
    "# Introduction Cell : In this Notebook Final Peer Assignment is Done."
   ]
  },
  {
   "cell_type": "markdown",
   "id": "b79866a0",
   "metadata": {},
   "source": [
    "# The Data Science Languages include:\n",
    "1. R \n",
    "2. Julia\n",
    "3. Python\n",
    "4. Scala\n",
    "5. SQL\n",
    "7. Java"
   ]
  },
  {
   "cell_type": "markdown",
   "id": "431b14d3",
   "metadata": {},
   "source": [
    "# The Data Science Libraries Include:\n",
    "* Numpy\n",
    "* Pandas\n",
    "* Scipy\n",
    "* Matplotlib\n",
    "* TensorFlow\n",
    "* keras"
   ]
  },
  {
   "cell_type": "markdown",
   "id": "d4826b72",
   "metadata": {},
   "source": [
    "| Data Science Tools |\n",
    "| ------------------- |\n",
    "| Jupyter Notebook    |\n",
    "| RStudio             |\n",
    "| Apache Spark  |\n"
   ]
  },
  {
   "cell_type": "markdown",
   "id": "c36002ac",
   "metadata": {},
   "source": [
    "***Below are Arithmetic Examples:***"
   ]
  },
  {
   "cell_type": "code",
   "execution_count": 5,
   "id": "a6241a88",
   "metadata": {},
   "outputs": [
    {
     "data": {
      "text/plain": [
       "105"
      ]
     },
     "execution_count": 5,
     "metadata": {},
     "output_type": "execute_result"
    }
   ],
   "source": [
    "(9+6)*7"
   ]
  },
  {
   "cell_type": "code",
   "execution_count": 8,
   "id": "2444bc41",
   "metadata": {},
   "outputs": [
    {
     "name": "stdout",
     "output_type": "stream",
     "text": [
      "1.45\n"
     ]
    }
   ],
   "source": [
    "minutes = 87\n",
    "hours = minutes/60\n",
    "\n",
    "print(hours)"
   ]
  },
  {
   "cell_type": "markdown",
   "id": "68bc14d2",
   "metadata": {},
   "source": [
    "# Objectives covered in this course:\n",
    "\n",
    "**Objectives:**\n",
    "* List of Data Science Languages\n",
    "* List of Data Science Tools\n",
    "* Api's,version control and Git\n",
    "* Jupyter Notebook, Python and Rstudio\n"
   ]
  },
  {
   "cell_type": "markdown",
   "id": "e904a1bb",
   "metadata": {},
   "source": [
    "## Ali Taimoor "
   ]
  },
  {
   "cell_type": "code",
   "execution_count": null,
   "id": "00cc96fa",
   "metadata": {},
   "outputs": [],
   "source": []
  }
 ],
 "metadata": {
  "kernelspec": {
   "display_name": "Python 3 (ipykernel)",
   "language": "python",
   "name": "python3"
  },
  "language_info": {
   "codemirror_mode": {
    "name": "ipython",
    "version": 3
   },
   "file_extension": ".py",
   "mimetype": "text/x-python",
   "name": "python",
   "nbconvert_exporter": "python",
   "pygments_lexer": "ipython3",
   "version": "3.11.4"
  }
 },
 "nbformat": 4,
 "nbformat_minor": 5
}
